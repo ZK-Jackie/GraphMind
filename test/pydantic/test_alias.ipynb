{
 "cells": [
  {
   "cell_type": "code",
   "id": "initial_id",
   "metadata": {
    "collapsed": true,
    "ExecuteTime": {
     "end_time": "2024-10-16T15:45:46.228660Z",
     "start_time": "2024-10-16T15:45:46.213616Z"
    }
   },
   "source": [
    "from pydantic import BaseModel, ConfigDict\n",
    "from pydantic.alias_generators import to_camel\n",
    "\n",
    "\n",
    "class Test(BaseModel):\n",
    "    user_name: str\n",
    "    user_age: int\n",
    "    \n",
    "    model_config = ConfigDict(alias_generator=to_camel, populate_by_name=True)"
   ],
   "outputs": [],
   "execution_count": 4
  },
  {
   "metadata": {
    "ExecuteTime": {
     "end_time": "2024-10-16T15:45:47.434559Z",
     "start_time": "2024-10-16T15:45:47.419523Z"
    }
   },
   "cell_type": "code",
   "source": [
    "test = Test(user_name='John', user_age=25)\n",
    "\n",
    "test.model_dump(by_alias=True)"
   ],
   "id": "78b92d0dd2992b71",
   "outputs": [
    {
     "data": {
      "text/plain": [
       "{'userName': 'John', 'userAge': 25}"
      ]
     },
     "execution_count": 5,
     "metadata": {},
     "output_type": "execute_result"
    }
   ],
   "execution_count": 5
  },
  {
   "metadata": {
    "ExecuteTime": {
     "end_time": "2024-10-16T15:47:30.990226Z",
     "start_time": "2024-10-16T15:47:30.975223Z"
    }
   },
   "cell_type": "code",
   "source": [
    "test2 = Test(userName='John', userAge=25)\n",
    "\n",
    "test2"
   ],
   "id": "7477689ec40e174b",
   "outputs": [
    {
     "data": {
      "text/plain": [
       "Test(user_name='John', user_age=25)"
      ]
     },
     "execution_count": 7,
     "metadata": {},
     "output_type": "execute_result"
    }
   ],
   "execution_count": 7
  }
 ],
 "metadata": {
  "kernelspec": {
   "display_name": "Python 3",
   "language": "python",
   "name": "python3"
  },
  "language_info": {
   "codemirror_mode": {
    "name": "ipython",
    "version": 2
   },
   "file_extension": ".py",
   "mimetype": "text/x-python",
   "name": "python",
   "nbconvert_exporter": "python",
   "pygments_lexer": "ipython2",
   "version": "2.7.6"
  }
 },
 "nbformat": 4,
 "nbformat_minor": 5
}
