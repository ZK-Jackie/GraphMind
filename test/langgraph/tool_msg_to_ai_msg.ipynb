{
 "cells": [
  {
   "cell_type": "code",
   "id": "initial_id",
   "metadata": {
    "collapsed": true,
    "ExecuteTime": {
     "end_time": "2024-10-16T16:34:29.767321Z",
     "start_time": "2024-10-16T16:34:29.737325Z"
    }
   },
   "source": [
    "from dotenv import load_dotenv\n",
    "\n",
    "load_dotenv()\n",
    "from graphmind.service.chat.chat_agent.agent import GraphAgent\n",
    "\n",
    "graph = GraphAgent().agent_with_history\n",
    "\n",
    "config = {\"configurable\": {\"thread_id\": \"user-Test_conv-1\"}}\n",
    "\n",
    "snapshot = graph.get_state(config)\n",
    "existing_messages = snapshot.values[\"messages\"]\n",
    "for msg in existing_messages:\n",
    "    msg.pretty_print()"
   ],
   "outputs": [
    {
     "name": "stdout",
     "output_type": "stream",
     "text": [
      "================================\u001B[1m Human Message \u001B[0m=================================\n",
      "\n",
      "你好！\n",
      "==================================\u001B[1m Ai Message \u001B[0m==================================\n",
      "\n",
      "你好，请问有什么可以帮助你的吗？\n"
     ]
    }
   ],
   "execution_count": 7
  }
 ],
 "metadata": {
  "kernelspec": {
   "display_name": "Python 3",
   "language": "python",
   "name": "python3"
  },
  "language_info": {
   "codemirror_mode": {
    "name": "ipython",
    "version": 2
   },
   "file_extension": ".py",
   "mimetype": "text/x-python",
   "name": "python",
   "nbconvert_exporter": "python",
   "pygments_lexer": "ipython2",
   "version": "2.7.6"
  }
 },
 "nbformat": 4,
 "nbformat_minor": 5
}
